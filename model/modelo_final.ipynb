{
 "cells": [
  {
   "cell_type": "code",
   "execution_count": 3,
   "id": "80161c51",
   "metadata": {},
   "outputs": [],
   "source": [
    "import pandas as pd\n",
    "import numpy as np\n",
    "import joblib"
   ]
  },
  {
   "cell_type": "code",
   "execution_count": 4,
   "id": "017794b8",
   "metadata": {},
   "outputs": [],
   "source": [
    "# Modelos y transformadores\n",
    "modelo = joblib.load('../model/modelo_multiclase_v2.pkl')\n",
    "scaler = joblib.load('../model/scaler_full.pkl')\n",
    "cat_encoder = joblib.load('../model/encoder_categoricos.pkl')\n",
    "label_encoder = joblib.load('../model/encoder_etiquetas.pkl')"
   ]
  },
  {
   "cell_type": "code",
   "execution_count": 5,
   "id": "d54f7470",
   "metadata": {},
   "outputs": [],
   "source": [
    "df_base = pd.read_csv('../data/teclados_limpio.csv')\n",
    "df_base.fillna(0, inplace=True)"
   ]
  },
  {
   "cell_type": "code",
   "execution_count": 11,
   "id": "456600d5",
   "metadata": {},
   "outputs": [],
   "source": [
    "def predecir_categoria(teclado_nombre, precio_usuario):\n",
    "    fila = df_base[df_base[\"Name\"] == teclado_nombre]\n",
    "\n",
    "    if fila.empty:\n",
    "        return f\"❌ Teclado '{teclado_nombre}' no encontrado en la base de datos.\"\n",
    "\n",
    "    fila = fila.iloc[0]\n",
    "    tipo = fila.get(\"Type\", \"\")\n",
    "    conexion = fila.get(\"Connection\", \"\")\n",
    "    switches = fila.get(\"Switches\", \"\")\n",
    "    rating = fila.get(\"Rating\", 0)\n",
    "    stores = fila.get(\"Stores\", 0)\n",
    "\n",
    "    # Escalar datos numéricos con nombres\n",
    "    num_df = pd.DataFrame([[precio_usuario, rating, stores]], columns=[\"SimulatedPrice\", \"Rating\", \"Stores\"])\n",
    "    num_features = scaler.transform(num_df)\n",
    "\n",
    "    # Codificar datos categóricos con nombres\n",
    "    cat_df = pd.DataFrame([[teclado_nombre, tipo, conexion, switches]],\n",
    "                        columns=[\"Name\", \"Type\", \"Connection\", \"Switches\"])\n",
    "    cat_features = cat_encoder.transform(cat_df)\n",
    "\n",
    "    X_input = np.hstack([num_features, cat_features])\n",
    "\n",
    "    y_pred = modelo.predict(X_input)\n",
    "    etiqueta = label_encoder.inverse_transform(y_pred)[0]\n",
    "\n",
    "    return {\n",
    "        \"Teclado\": teclado_nombre,\n",
    "        \"Precio ingresado\": precio_usuario,\n",
    "        \"Precio real\": fila[\"Price\"],\n",
    "        \"Categoría\": etiqueta\n",
    "    }\n"
   ]
  },
  {
   "cell_type": "code",
   "execution_count": 12,
   "id": "371e5a16",
   "metadata": {},
   "outputs": [
    {
     "name": "stdout",
     "output_type": "stream",
     "text": [
      "{'Teclado': 'Logitech G915 TKL (GL Clicky)', 'Precio ingresado': 185.0, 'Precio real': np.float64(229.0), 'Categoría': 'BuenPrecio'}\n",
      "{'Teclado': 'Redragon Yama', 'Precio ingresado': 39.99, 'Precio real': np.float64(86.0), 'Categoría': 'Oferton'}\n",
      "{'Teclado': 'Corsair K63', 'Precio ingresado': 150.0, 'Precio real': np.float64(99.99), 'Categoría': 'Estafa'}\n"
     ]
    }
   ],
   "source": [
    "print(predecir_categoria(\"Logitech G915 TKL (GL Clicky)\", 185.00))\n",
    "print(predecir_categoria(\"Redragon Yama\", 39.99))\n",
    "print(predecir_categoria(\"Corsair K63\", 150.00))"
   ]
  },
  {
   "cell_type": "code",
   "execution_count": null,
   "id": "26d0c804",
   "metadata": {},
   "outputs": [],
   "source": []
  }
 ],
 "metadata": {
  "kernelspec": {
   "display_name": "Python 3",
   "language": "python",
   "name": "python3"
  },
  "language_info": {
   "codemirror_mode": {
    "name": "ipython",
    "version": 3
   },
   "file_extension": ".py",
   "mimetype": "text/x-python",
   "name": "python",
   "nbconvert_exporter": "python",
   "pygments_lexer": "ipython3",
   "version": "3.13.2"
  }
 },
 "nbformat": 4,
 "nbformat_minor": 5
}
