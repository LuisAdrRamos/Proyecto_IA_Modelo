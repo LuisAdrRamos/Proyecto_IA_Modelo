{
 "cells": [
  {
   "cell_type": "code",
   "execution_count": 1,
   "id": "e884b6ad",
   "metadata": {},
   "outputs": [],
   "source": [
    "import pandas as pd"
   ]
  },
  {
   "cell_type": "code",
   "execution_count": 2,
   "id": "0507adb1",
   "metadata": {},
   "outputs": [
    {
     "name": "stdout",
     "output_type": "stream",
     "text": [
      "Columnas del archivo: ['Name', 'Price', 'Stores', 'Rating', 'Votes', 'Type', 'Connection', 'Switches']\n",
      "    Price  Price_clean\n",
      "0   34.49        34.49\n",
      "1   47.50        47.50\n",
      "2  156.07       156.07\n",
      "3   29.90        29.90\n",
      "4   30.52        30.52\n",
      "5   58.90        58.90\n",
      "6   59.90        59.90\n",
      "7   59.99        59.99\n",
      "8   55.17        55.17\n",
      "9   77.90        77.90\n"
     ]
    }
   ],
   "source": [
    "df = pd.read_csv(\"teclados.csv\", delimiter=\";\", encoding=\"utf-8\")\n",
    "\n",
    "df.columns = df.columns.str.strip()\n",
    "\n",
    "print(\"Columnas del archivo:\", df.columns.tolist())\n",
    "\n",
    "df['Price'] = (\n",
    "    df['Price']\n",
    "    .astype(str)\n",
    "    .str.strip() \n",
    "    .str.replace('\"', '', regex=False)\n",
    "    .str.replace(\"'\", '', regex=False)\n",
    "    .str.replace(',', '.', regex=False)\n",
    ")\n",
    "\n",
    "df['Price_clean'] = pd.to_numeric(df['Price'], errors='coerce')\n",
    "\n",
    "print(df[['Price', 'Price_clean']].head(10))"
   ]
  },
  {
   "cell_type": "code",
   "execution_count": 3,
   "id": "b75875be",
   "metadata": {},
   "outputs": [],
   "source": [
    "df['Price'] = df['Price_clean']\n",
    "df.drop(columns='Price_clean', inplace=True)"
   ]
  },
  {
   "cell_type": "code",
   "execution_count": 4,
   "id": "5a60f8d0",
   "metadata": {},
   "outputs": [],
   "source": [
    "df.to_csv(\"teclados_limpio.csv\", index=False, encoding=\"utf-8\")"
   ]
  }
 ],
 "metadata": {
  "kernelspec": {
   "display_name": "Python 3",
   "language": "python",
   "name": "python3"
  },
  "language_info": {
   "codemirror_mode": {
    "name": "ipython",
    "version": 3
   },
   "file_extension": ".py",
   "mimetype": "text/x-python",
   "name": "python",
   "nbconvert_exporter": "python",
   "pygments_lexer": "ipython3",
   "version": "3.13.2"
  }
 },
 "nbformat": 4,
 "nbformat_minor": 5
}
